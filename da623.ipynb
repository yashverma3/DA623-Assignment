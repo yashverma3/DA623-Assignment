{
 "cells": [
  {
   "cell_type": "markdown",
   "id": "aff02be5",
   "metadata": {},
   "source": [
    "# Ridge and Lasso regression explained and performance contrasted on synthetic 2-D data"
   ]
  },
  {
   "cell_type": "markdown",
   "id": "d1425438",
   "metadata": {},
   "source": [
    "# Ridge Regression:\n"
   ]
  },
  {
   "cell_type": "markdown",
   "id": "fffa6137",
   "metadata": {},
   "source": [
    "The cost function of linear regression gains a penalty factor through ridge regression. The L2 norm (sum of the squared coefficients) multiplied by a regularisation parameter (lambda) yields this penalty term. The regularization parameter regulates the amount of shrinkage applied to the coefficients. Large coefficients are penalised in ridge regression, which lessens the impact of multicollinearity."
   ]
  },
  {
   "cell_type": "markdown",
   "id": "7ffa2119",
   "metadata": {},
   "source": [
    "# Lasso Regression:"
   ]
  },
  {
   "cell_type": "markdown",
   "id": "f345e952",
   "metadata": {},
   "source": [
    "Lasso regression also adds a penalty term to the linear regression cost function, but it uses the L1 norm (sum of the absolute coefficients) instead of the L2 norm. Like Ridge regression, Lasso regression also involves a regularization parameter (lambda), which controls the amount of shrinkage applied to the coefficients. Lasso regression has the added benefit of performing feature selection, as it tends to shrink coefficients all the way to zero, effectively removing some predictors from the model.\n",
    "\n"
   ]
  },
  {
   "cell_type": "markdown",
   "id": "b27c5220",
   "metadata": {},
   "source": [
    "# Introduction\n"
   ]
  },
  {
   "cell_type": "markdown",
   "id": "71aa502c",
   "metadata": {},
   "source": [
    "This Jupyter Notebook demonstrates Ridge and Lasso regression on synthetic 2-D data.\n",
    "We'll cover the following steps:\n",
    "1. Generate synthetic 2-D data.\n",
    "2. Split the data into training and testing sets.\n",
    "3. Perform Ridge and Lasso regression with cross-validation for hyperparameter tuning.\n",
    "4. Evaluate the models using mean squared error.\n",
    "5. Plot actual vs predicted values for comparison.\n"
   ]
  },
  {
   "cell_type": "code",
   "execution_count": 6,
   "id": "45e668f5",
   "metadata": {},
   "outputs": [],
   "source": [
    "\n",
    "\n",
    "# Import necessary libraries\n",
    "import numpy as np\n",
    "import matplotlib.pyplot as plt\n",
    "from sklearn.datasets import make_regression\n",
    "from sklearn.model_selection import train_test_split, GridSearchCV\n",
    "from sklearn.linear_model import Ridge, Lasso\n",
    "from sklearn.metrics import mean_squared_error\n",
    "\n",
    "\n"
   ]
  },
  {
   "cell_type": "markdown",
   "id": "d6a80c54",
   "metadata": {},
   "source": [
    "# Step 2: Generate Synthetic Data\n",
    "Generate synthetic 2-D data with a linear relationship and some noise"
   ]
  },
  {
   "cell_type": "code",
   "execution_count": 7,
   "id": "0eb5897a",
   "metadata": {},
   "outputs": [],
   "source": [
    "X, y = make_regression(n_samples=100, n_features=2, noise=10, random_state=42)"
   ]
  },
  {
   "cell_type": "markdown",
   "id": "f5e8cce5",
   "metadata": {},
   "source": [
    "\n",
    "# Step 3: Split Data\n",
    "Split the data into training and testing sets"
   ]
  },
  {
   "cell_type": "code",
   "execution_count": 8,
   "id": "478a96c8",
   "metadata": {},
   "outputs": [],
   "source": [
    "X_train, X_test, y_train, y_test = train_test_split(X, y, test_size=0.2, random_state=42)"
   ]
  },
  {
   "cell_type": "markdown",
   "id": "a0f4c6d5",
   "metadata": {},
   "source": [
    "# Step 4: Ridge Regression\n",
    "Perform Ridge regression with cross-validation for hyperparameter tuning"
   ]
  },
  {
   "cell_type": "code",
   "execution_count": 9,
   "id": "141bff36",
   "metadata": {},
   "outputs": [
    {
     "data": {
      "text/plain": [
       "GridSearchCV(cv=5, estimator=Ridge(),\n",
       "             param_grid={'alpha': array([1.00000000e-03, 1.14975700e-03, 1.32194115e-03, 1.51991108e-03,\n",
       "       1.74752840e-03, 2.00923300e-03, 2.31012970e-03, 2.65608778e-03,\n",
       "       3.05385551e-03, 3.51119173e-03, 4.03701726e-03, 4.64158883e-03,\n",
       "       5.33669923e-03, 6.13590727e-03, 7.05480231e-03, 8.11130831e-03,\n",
       "       9.32603347e-03, 1.07226722e-02, 1.23284674e-02, 1....\n",
       "       4.03701726e+01, 4.64158883e+01, 5.33669923e+01, 6.13590727e+01,\n",
       "       7.05480231e+01, 8.11130831e+01, 9.32603347e+01, 1.07226722e+02,\n",
       "       1.23284674e+02, 1.41747416e+02, 1.62975083e+02, 1.87381742e+02,\n",
       "       2.15443469e+02, 2.47707636e+02, 2.84803587e+02, 3.27454916e+02,\n",
       "       3.76493581e+02, 4.32876128e+02, 4.97702356e+02, 5.72236766e+02,\n",
       "       6.57933225e+02, 7.56463328e+02, 8.69749003e+02, 1.00000000e+03])})"
      ]
     },
     "execution_count": 9,
     "metadata": {},
     "output_type": "execute_result"
    }
   ],
   "source": [
    "ridge = Ridge()\n",
    "alphas = np.logspace(-3, 3, 100)  # Range of alpha values for regularization\n",
    "ridge_params = {'alpha': alphas}\n",
    "ridge_grid = GridSearchCV(ridge, ridge_params, cv=5)\n",
    "ridge_grid.fit(X_train, y_train)"
   ]
  },
  {
   "cell_type": "markdown",
   "id": "17e05994",
   "metadata": {},
   "source": [
    "# Step 5: Lasso Regression\n",
    "Perform Lasso regression with cross-validation for hyperparameter tuning"
   ]
  },
  {
   "cell_type": "code",
   "execution_count": 10,
   "id": "232cca6c",
   "metadata": {},
   "outputs": [
    {
     "data": {
      "text/plain": [
       "GridSearchCV(cv=5, estimator=Lasso(),\n",
       "             param_grid={'alpha': array([1.00000000e-03, 1.14975700e-03, 1.32194115e-03, 1.51991108e-03,\n",
       "       1.74752840e-03, 2.00923300e-03, 2.31012970e-03, 2.65608778e-03,\n",
       "       3.05385551e-03, 3.51119173e-03, 4.03701726e-03, 4.64158883e-03,\n",
       "       5.33669923e-03, 6.13590727e-03, 7.05480231e-03, 8.11130831e-03,\n",
       "       9.32603347e-03, 1.07226722e-02, 1.23284674e-02, 1....\n",
       "       4.03701726e+01, 4.64158883e+01, 5.33669923e+01, 6.13590727e+01,\n",
       "       7.05480231e+01, 8.11130831e+01, 9.32603347e+01, 1.07226722e+02,\n",
       "       1.23284674e+02, 1.41747416e+02, 1.62975083e+02, 1.87381742e+02,\n",
       "       2.15443469e+02, 2.47707636e+02, 2.84803587e+02, 3.27454916e+02,\n",
       "       3.76493581e+02, 4.32876128e+02, 4.97702356e+02, 5.72236766e+02,\n",
       "       6.57933225e+02, 7.56463328e+02, 8.69749003e+02, 1.00000000e+03])})"
      ]
     },
     "execution_count": 10,
     "metadata": {},
     "output_type": "execute_result"
    }
   ],
   "source": [
    "lasso = Lasso()\n",
    "lasso_params = {'alpha': alphas}\n",
    "lasso_grid = GridSearchCV(lasso, lasso_params, cv=5)\n",
    "lasso_grid.fit(X_train, y_train)\n"
   ]
  },
  {
   "cell_type": "markdown",
   "id": "872793ae",
   "metadata": {},
   "source": [
    "# Step 6: Predictions\n",
    "Make predictions using the trained models on the test set"
   ]
  },
  {
   "cell_type": "code",
   "execution_count": 11,
   "id": "7bdc5d6a",
   "metadata": {},
   "outputs": [],
   "source": [
    "ridge_pred = ridge_grid.predict(X_test)\n",
    "lasso_pred = lasso_grid.predict(X_test)"
   ]
  },
  {
   "cell_type": "markdown",
   "id": "554ad441",
   "metadata": {},
   "source": [
    "# Step 7: Evaluation\n",
    "Evaluate the models using mean squared error"
   ]
  },
  {
   "cell_type": "code",
   "execution_count": 12,
   "id": "bb28a2be",
   "metadata": {},
   "outputs": [],
   "source": [
    "ridge_mse = mean_squared_error(y_test, ridge_pred)\n",
    "lasso_mse = mean_squared_error(y_test, lasso_pred)"
   ]
  },
  {
   "cell_type": "markdown",
   "id": "ba3a0090",
   "metadata": {},
   "source": [
    "\n",
    "# Step 8: Plotting\n",
    "Plot actual vs predicted values for comparison between Ridge and Lasso regression"
   ]
  },
  {
   "cell_type": "code",
   "execution_count": 13,
   "id": "23a4c291",
   "metadata": {},
   "outputs": [
    {
     "data": {
      "image/png": "[encoded data removed]",
      "text/plain": [
       "<Figure size 720x432 with 1 Axes>"
      ]
     },
     "metadata": {
      "needs_background": "light"
     },
     "output_type": "display_data"
    }
   ],
   "source": [
    "plt.figure(figsize=(10, 6))\n",
    "plt.scatter(y_test, ridge_pred, color='blue', label='Ridge Regression')\n",
    "plt.scatter(y_test, lasso_pred, color='red', label='Lasso Regression')\n",
    "plt.plot([min(y_test), max(y_test)], [min(y_test), max(y_test)], color='black', linestyle='--')\n",
    "plt.xlabel('Actual Values')\n",
    "plt.ylabel('Predicted Values')\n",
    "plt.title('Actual vs Predicted Values (Ridge vs Lasso)')\n",
    "plt.legend()\n",
    "plt.show()"
   ]
  },
  {
   "cell_type": "markdown",
   "id": "18816477",
   "metadata": {},
   "source": [
    "# Step 9: Conclusion\n",
    "Summarize the findings and display the MSE and best alpha values for both Ridge and Lasso regression"
   ]
  },
  {
   "cell_type": "code",
   "execution_count": 14,
   "id": "0a7aacd8",
   "metadata": {},
   "outputs": [
    {
     "name": "stdout",
     "output_type": "stream",
     "text": [
      "Ridge Regression MSE: 154.80340861939246\n",
      "Lasso Regression MSE: 154.93038698772477\n",
      "Ridge Regression Best Alpha: {'alpha': 0.13219411484660287}\n",
      "Lasso Regression Best Alpha: {'alpha': 0.1519911082952933}\n"
     ]
    }
   ],
   "source": [
    "print(\"Ridge Regression MSE:\", ridge_mse)\n",
    "print(\"Lasso Regression MSE:\", lasso_mse)\n",
    "print(\"Ridge Regression Best Alpha:\", ridge_grid.best_params_)\n",
    "print(\"Lasso Regression Best Alpha:\", lasso_grid.best_params_)"
   ]
  }
 ],
 "metadata": {
  "kernelspec": {
   "display_name": "Python 3 (ipykernel)",
   "language": "python",
   "name": "python3"
  },
  "language_info": {
   "codemirror_mode": {
    "name": "ipython",
    "version": 3
   },
   "file_extension": ".py",
   "mimetype": "text/x-python",
   "name": "python",
   "nbconvert_exporter": "python",
   "pygments_lexer": "ipython3",
   "version": "3.9.12"
  }
 },
 "nbformat": 4,
 "nbformat_minor": 5
}
